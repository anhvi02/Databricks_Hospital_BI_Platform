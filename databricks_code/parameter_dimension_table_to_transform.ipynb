{
 "cells": [
  {
   "cell_type": "code",
   "execution_count": 0,
   "metadata": {
    "application/vnd.databricks.v1+cell": {
     "cellMetadata": {},
     "inputWidgets": {},
     "nuid": "73517042-9f4e-4021-80c8-26c105a8a329",
     "showTitle": false,
     "tableResultSettingsMap": {},
     "title": ""
    }
   },
   "outputs": [],
   "source": [
    "dimensional_tables = [\n",
    "    { 'dimensional_table': 'cities' },\n",
    "    { 'dimensional_table': 'departments' },\n",
    "    { 'dimensional_table': 'diagnoses' },\n",
    "    { 'dimensional_table': 'insurance' },\n",
    "    { 'dimensional_table': 'procedures' },\n",
    "    { 'dimensional_table': 'providers' },\n",
    "    # { 'dimensional_table': 'patients'},\n",
    "]"
   ]
  },
  {
   "cell_type": "code",
   "execution_count": 0,
   "metadata": {
    "application/vnd.databricks.v1+cell": {
     "cellMetadata": {},
     "inputWidgets": {},
     "nuid": "675e1c77-7ac8-4350-99ce-31907020fa8c",
     "showTitle": false,
     "tableResultSettingsMap": {},
     "title": ""
    }
   },
   "outputs": [],
   "source": [
    "dbutils.jobs.taskValues.set('output_parameter_dimension',dimensional_tables)"
   ]
  }
 ],
 "metadata": {
  "application/vnd.databricks.v1+notebook": {
   "computePreferences": null,
   "dashboards": [],
   "environmentMetadata": {
    "base_environment": "",
    "environment_version": "2"
   },
   "inputWidgetPreferences": null,
   "language": "python",
   "notebookMetadata": {
    "pythonIndentUnit": 4
   },
   "notebookName": "parameter_dimension_table_to_transform",
   "widgets": {}
  },
  "language_info": {
   "name": "python"
  }
 },
 "nbformat": 4,
 "nbformat_minor": 0
}
