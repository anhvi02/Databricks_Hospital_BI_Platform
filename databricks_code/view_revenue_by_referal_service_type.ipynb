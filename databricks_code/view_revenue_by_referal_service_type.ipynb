{
 "cells": [
  {
   "cell_type": "markdown",
   "metadata": {
    "application/vnd.databricks.v1+cell": {
     "cellMetadata": {
      "byteLimit": 2048000,
      "rowLimit": 10000
     },
     "inputWidgets": {},
     "nuid": "4aa04713-169b-4917-873f-d6a36c45bb95",
     "showTitle": false,
     "tableResultSettingsMap": {},
     "title": ""
    }
   },
   "source": [
    "# View: Revenue and NumberOfPatients by Referral Source & Service Type\n",
    "\n",
    "## Data Source\n",
    "- **Visits:** `workspace.hospital_silver.visits`\n",
    "\n",
    "## Details: \n",
    "- Location: `workspace.hospital_gold.view_revenue_referralsource_servicetype`\n",
    "- Description: Sum Revenue and Count Distinct of Patient in Referral Source & Service Type\n"
   ]
  },
  {
   "cell_type": "code",
   "execution_count": 0,
   "metadata": {
    "application/vnd.databricks.v1+cell": {
     "cellMetadata": {
      "byteLimit": 2048000,
      "rowLimit": 10000
     },
     "inputWidgets": {},
     "nuid": "b8bce5a5-853f-42bb-b0bb-1e16a9fd831f",
     "showTitle": false,
     "tableResultSettingsMap": {},
     "title": ""
    }
   },
   "outputs": [],
   "source": [
    "# Databricks Storage\n",
    "catalog_name = \"workspace\"\n",
    "schema_bronze = \"hospital_bronze\"\n",
    "schema_silver = \"hospital_silver\"\n",
    "schema_gold = \"hospital_gold\"\n",
    "\n",
    "# view name: name of the view in schema and checkpoint\n",
    "view_name = \"view_revenue_referralsource_servicetype\"\n",
    "\n",
    "# data source path\n",
    "data_source = \"s3://buckethospitaldata/view/\"\n",
    "\n",
    "# for streaming: schema and checkpoint location (stored in data source S3 buckets)\n",
    "checkpoint_location = f\"{data_source}_checkpoints/{view_name}\""
   ]
  },
  {
   "cell_type": "markdown",
   "metadata": {
    "application/vnd.databricks.v1+cell": {
     "cellMetadata": {},
     "inputWidgets": {},
     "nuid": "a2f742d7-282e-4ab1-b8dc-044e5bb7bc27",
     "showTitle": false,
     "tableResultSettingsMap": {},
     "title": ""
    }
   },
   "source": [
    "## Read data from Silver Layer"
   ]
  },
  {
   "cell_type": "code",
   "execution_count": 0,
   "metadata": {
    "application/vnd.databricks.v1+cell": {
     "cellMetadata": {
      "byteLimit": 2048000,
      "rowLimit": 10000
     },
     "inputWidgets": {},
     "nuid": "c3f86bd6-3229-4b01-b4e2-aca29ec5e6f6",
     "showTitle": false,
     "tableResultSettingsMap": {},
     "title": ""
    }
   },
   "outputs": [],
   "source": [
    "df_visits = spark.read.table(f\"{catalog_name}.{schema_silver}.visits\")"
   ]
  },
  {
   "cell_type": "markdown",
   "metadata": {
    "application/vnd.databricks.v1+cell": {
     "cellMetadata": {},
     "inputWidgets": {},
     "nuid": "bbe45c9b-e2c6-4274-b3be-22886742fc42",
     "showTitle": false,
     "tableResultSettingsMap": {},
     "title": ""
    }
   },
   "source": [
    "## Aggregate data"
   ]
  },
  {
   "cell_type": "code",
   "execution_count": 0,
   "metadata": {
    "application/vnd.databricks.v1+cell": {
     "cellMetadata": {
      "byteLimit": 2048000,
      "rowLimit": 10000
     },
     "inputWidgets": {},
     "nuid": "739e22d0-ca2a-4fec-b034-7a5df46625a3",
     "showTitle": false,
     "tableResultSettingsMap": {},
     "title": ""
    }
   },
   "outputs": [],
   "source": [
    "from pyspark.sql.functions import countDistinct, sum, approx_count_distinct\n",
    "\n",
    "view_revenue_referralsource_servicetype = df_visits.groupBy(\"Referral_Source\",\"Service_Type\").agg(sum(\"Revenue_per_visit\").alias(\"Revenue\"),approx_count_distinct(\"Patient_ID\").alias(\"Number_of_unique_patient\")).sort(\"Referral_Source\",\"Service_Type\")"
   ]
  },
  {
   "cell_type": "markdown",
   "metadata": {
    "application/vnd.databricks.v1+cell": {
     "cellMetadata": {},
     "inputWidgets": {},
     "nuid": "18f71256-e321-4e8c-95aa-1d96e1e939e6",
     "showTitle": false,
     "tableResultSettingsMap": {},
     "title": ""
    }
   },
   "source": [
    "## Write data as a View in Gold Layer"
   ]
  },
  {
   "cell_type": "code",
   "execution_count": 0,
   "metadata": {
    "application/vnd.databricks.v1+cell": {
     "cellMetadata": {
      "byteLimit": 2048000,
      "rowLimit": 10000
     },
     "inputWidgets": {},
     "nuid": "987e4e31-93f6-4389-991f-4c5512195721",
     "showTitle": false,
     "tableResultSettingsMap": {},
     "title": ""
    }
   },
   "outputs": [],
   "source": [
    "(\n",
    "    view_revenue_referralsource_servicetype.write\n",
    "    .format(\"delta\")\n",
    "    .mode(\"overwrite\")  \n",
    "    .option(\"overwriteSchema\", \"true\")  \n",
    "    .saveAsTable(f\"{catalog_name}.{schema_gold}.{view_name}\")\n",
    ")"
   ]
  }
 ],
 "metadata": {
  "application/vnd.databricks.v1+notebook": {
   "computePreferences": null,
   "dashboards": [],
   "environmentMetadata": {
    "base_environment": "",
    "environment_version": "2"
   },
   "inputWidgetPreferences": null,
   "language": "python",
   "notebookMetadata": {
    "pythonIndentUnit": 4
   },
   "notebookName": "view_revenue_by_referal_service_type",
   "widgets": {}
  },
  "language_info": {
   "name": "python"
  }
 },
 "nbformat": 4,
 "nbformat_minor": 0
}
