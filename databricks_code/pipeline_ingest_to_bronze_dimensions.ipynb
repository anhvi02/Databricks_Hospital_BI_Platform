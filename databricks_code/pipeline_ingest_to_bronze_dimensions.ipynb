{
 "cells": [
  {
   "cell_type": "markdown",
   "metadata": {
    "application/vnd.databricks.v1+cell": {
     "cellMetadata": {
      "byteLimit": 2048000,
      "rowLimit": 10000
     },
     "inputWidgets": {},
     "nuid": "7945ac33-9eff-44d1-a460-ebb2112669da",
     "showTitle": false,
     "tableResultSettingsMap": {},
     "title": ""
    }
   },
   "source": [
    "# Pipeline: Ingest to Bronze Layer\n",
    "\n",
    "## Data Source\n",
    "\n",
    "- **Path:** `s3://buckethospitaldata/`\n",
    "- **Format:** CSV\n",
    "- **Storage Provider:** AWS S3 (External Object Storage)\n",
    "\n",
    "## Destination\n",
    "\n",
    "- **Catalog Location:** `workspace.hospital_bronze`\n",
    "- **Format:** Delta Lake Table (Managed Streaming Table)\n",
    "- **Managed by:** Unity Catalog + Databricks Managed Storage (DBFS under the hood, for Free Edition)\n"
   ]
  },
  {
   "cell_type": "markdown",
   "metadata": {
    "application/vnd.databricks.v1+cell": {
     "cellMetadata": {
      "byteLimit": 2048000,
      "rowLimit": 10000
     },
     "inputWidgets": {},
     "nuid": "e18f2e3f-53e1-421d-886b-f4edcbc1adc7",
     "showTitle": false,
     "tableResultSettingsMap": {},
     "title": ""
    }
   },
   "source": [
    "### Configuration"
   ]
  },
  {
   "cell_type": "markdown",
   "metadata": {
    "application/vnd.databricks.v1+cell": {
     "cellMetadata": {
      "byteLimit": 2048000,
      "rowLimit": 10000
     },
     "inputWidgets": {},
     "nuid": "bd37b47b-9a03-44ad-a086-3070d05b475a",
     "showTitle": false,
     "tableResultSettingsMap": {},
     "title": ""
    }
   },
   "source": [
    "#### Parameter for running Entities in S3"
   ]
  },
  {
   "cell_type": "code",
   "execution_count": 0,
   "metadata": {
    "application/vnd.databricks.v1+cell": {
     "cellMetadata": {
      "byteLimit": 2048000,
      "rowLimit": 10000
     },
     "inputWidgets": {},
     "nuid": "6eae2e47-60b2-4359-817c-52bd32695146",
     "showTitle": false,
     "tableResultSettingsMap": {},
     "title": ""
    }
   },
   "outputs": [],
   "source": [
    "dbutils.widgets.text(\"dimensional_table\", \"\")\n",
    "dimensional_table = dbutils.widgets.get(\"dimensional_table\")\n",
    "\n",
    "assert dimensional_table, \"Missing required parameter: dimensional_table\""
   ]
  },
  {
   "cell_type": "markdown",
   "metadata": {
    "application/vnd.databricks.v1+cell": {
     "cellMetadata": {
      "byteLimit": 2048000,
      "rowLimit": 10000
     },
     "inputWidgets": {},
     "nuid": "b32e742d-978c-4e4f-ac7b-52f75c15085d",
     "showTitle": false,
     "tableResultSettingsMap": {},
     "title": ""
    }
   },
   "source": [
    "#### Define paths of data storage locations"
   ]
  },
  {
   "cell_type": "code",
   "execution_count": 0,
   "metadata": {
    "application/vnd.databricks.v1+cell": {
     "cellMetadata": {
      "byteLimit": 2048000,
      "rowLimit": 10000
     },
     "inputWidgets": {},
     "nuid": "b9919689-60b7-4c04-ab44-33cb76569142",
     "showTitle": false,
     "tableResultSettingsMap": {},
     "title": ""
    }
   },
   "outputs": [],
   "source": [
    "# Databricks Storage\n",
    "catalog_name = \"workspace\"\n",
    "schema_bronze = \"hospital_bronze\"\n",
    "\n",
    "# data source\n",
    "entity_source_path = f\"s3://buckethospitaldata/data_batching/{dimensional_table}/\" #path to dimensional_table folder in data source\n",
    "\n",
    "# Auto Loader\n",
    "schema_location = f\"s3://buckethospitaldata/pipeline_checkpoints/data_batching/_schemas/bronze/{dimensional_table}\" \n",
    "checkpoint_location = f\"s3://buckethospitaldata/pipeline_checkpoints/data_batching/_checkpoints/bronze/{dimensional_table}\""
   ]
  },
  {
   "cell_type": "markdown",
   "metadata": {
    "application/vnd.databricks.v1+cell": {
     "cellMetadata": {
      "byteLimit": 2048000,
      "rowLimit": 10000
     },
     "inputWidgets": {},
     "nuid": "dc92dc89-484d-422f-b9f7-8dab1adae051",
     "showTitle": false,
     "tableResultSettingsMap": {},
     "title": ""
    }
   },
   "source": [
    "### Read data fromn S3"
   ]
  },
  {
   "cell_type": "code",
   "execution_count": 0,
   "metadata": {
    "application/vnd.databricks.v1+cell": {
     "cellMetadata": {
      "byteLimit": 2048000,
      "rowLimit": 10000
     },
     "inputWidgets": {},
     "nuid": "b4b622a0-2cca-464d-8885-3523ab794a5a",
     "showTitle": false,
     "tableResultSettingsMap": {},
     "title": ""
    }
   },
   "outputs": [],
   "source": [
    "df_stream = (spark.readStream\n",
    "    .format(\"cloudFiles\")\n",
    "    .option(\"cloudFiles.format\", \"csv\")\n",
    "    .option(\"header\", \"true\")\n",
    "    .option(\"cloudFiles.inferColumnTypes\", \"true\")\n",
    "    .option(\"cloudFiles.schemaLocation\", schema_location)\n",
    "    .load(entity_source_path)\n",
    ")\n"
   ]
  },
  {
   "cell_type": "markdown",
   "metadata": {
    "application/vnd.databricks.v1+cell": {
     "cellMetadata": {
      "byteLimit": 2048000,
      "rowLimit": 10000
     },
     "inputWidgets": {},
     "nuid": "4a179358-3960-4bf0-920f-1d4e6094319e",
     "showTitle": false,
     "tableResultSettingsMap": {},
     "title": ""
    }
   },
   "source": [
    "### Quick Transformation\n",
    "Remove blank spaces in columns names"
   ]
  },
  {
   "cell_type": "code",
   "execution_count": 0,
   "metadata": {
    "application/vnd.databricks.v1+cell": {
     "cellMetadata": {
      "byteLimit": 2048000,
      "rowLimit": 10000
     },
     "inputWidgets": {},
     "nuid": "6273d105-eb3e-4b04-a66d-95823d98cce2",
     "showTitle": false,
     "tableResultSettingsMap": {},
     "title": ""
    }
   },
   "outputs": [],
   "source": [
    "import re\n",
    "\n",
    "def clean_column_names(df):\n",
    "    \"\"\"\n",
    "    Sanitize column names for Delta Lake: \n",
    "    - Replace any non-alphanumeric characters with underscore\n",
    "    - Lowercase everything\n",
    "    - Strip leading and trailing underscores\n",
    "    \"\"\"\n",
    "    cleaned_cols = []\n",
    "    for col in df.columns:\n",
    "        new_col = re.sub('[^0-9a-zA-Z]+', '_', col).strip('_')\n",
    "        cleaned_cols.append((col, new_col))\n",
    "\n",
    "    for original, cleaned in cleaned_cols:\n",
    "        if original != cleaned:\n",
    "            df = df.withColumnRenamed(original, cleaned)\n",
    "    return df\n",
    "\n",
    "# apply function to clean data before writing it\n",
    "df_stream_cleaned = clean_column_names(df_stream)\n"
   ]
  },
  {
   "cell_type": "markdown",
   "metadata": {
    "application/vnd.databricks.v1+cell": {
     "cellMetadata": {
      "byteLimit": 2048000,
      "rowLimit": 10000
     },
     "inputWidgets": {},
     "nuid": "f454a572-9dc2-4e78-bf18-41edaec67370",
     "showTitle": false,
     "tableResultSettingsMap": {},
     "title": ""
    }
   },
   "source": [
    "### Write data To Databricks Storage"
   ]
  },
  {
   "cell_type": "code",
   "execution_count": 0,
   "metadata": {
    "application/vnd.databricks.v1+cell": {
     "cellMetadata": {
      "byteLimit": 2048000,
      "rowLimit": 10000
     },
     "inputWidgets": {},
     "nuid": "5fedf003-e12b-452d-a786-779a2f37615d",
     "showTitle": false,
     "tableResultSettingsMap": {},
     "title": ""
    }
   },
   "outputs": [],
   "source": [
    "(df_stream_cleaned.writeStream\n",
    "    .format(\"delta\")\n",
    "    .option(\"checkpointLocation\", checkpoint_location)\n",
    "    .outputMode(\"append\")\n",
    "    .trigger(once=True)\n",
    "    .table(f\"{schema_bronze}.{dimensional_table}\")) #Databricks Storage location: catalog.schema.table\n"
   ]
  }
 ],
 "metadata": {
  "application/vnd.databricks.v1+notebook": {
   "computePreferences": null,
   "dashboards": [],
   "environmentMetadata": {
    "base_environment": "",
    "environment_version": "2"
   },
   "inputWidgetPreferences": null,
   "language": "python",
   "notebookMetadata": {
    "mostRecentlyExecutedCommandWithImplicitDF": {
     "commandId": -1,
     "dataframes": [
      "_sqldf"
     ]
    },
    "pythonIndentUnit": 4
   },
   "notebookName": "pipeline_ingest_to_bronze_dimensions",
   "widgets": {
    "dimensional_table": {
     "currentValue": "cities",
     "nuid": "9515d153-c4ba-458c-902d-f62c0e803e76",
     "typedWidgetInfo": {
      "autoCreated": false,
      "defaultValue": "",
      "label": null,
      "name": "dimensional_table",
      "options": {
       "widgetDisplayType": "Text",
       "validationRegex": null
      },
      "parameterDataType": "String"
     },
     "widgetInfo": {
      "widgetType": "text",
      "defaultValue": "",
      "label": null,
      "name": "dimensional_table",
      "options": {
       "widgetType": "text",
       "autoCreated": null,
       "validationRegex": null
      }
     }
    }
   }
  },
  "language_info": {
   "name": "python"
  }
 },
 "nbformat": 4,
 "nbformat_minor": 0
}
