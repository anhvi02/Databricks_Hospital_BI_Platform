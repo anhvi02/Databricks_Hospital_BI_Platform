{
 "cells": [
  {
   "cell_type": "markdown",
   "metadata": {
    "application/vnd.databricks.v1+cell": {
     "cellMetadata": {},
     "inputWidgets": {},
     "nuid": "dad02883-2644-4c02-9c94-9b5d3dae9656",
     "showTitle": false,
     "tableResultSettingsMap": {},
     "title": ""
    }
   },
   "source": [
    "# Pipeline: Bronze to Silver\n",
    "\n",
    "## Data Source\n",
    "\n",
    "- **Catalog Location:**  `workspace.hospital_bronze`\n",
    "- **Dimensional Tables:** `cities, departments, diagnoses, procedures, providers, insurance`\n",
    "- **Format:** Delta Lake Table\n",
    "\n",
    "\n",
    "## Destination\n",
    "\n",
    "- **Catalog Location:** `workspace.hospital_silver`\n",
    "- **Dimensional Tables:** `cities, departments, diagnoses, procedures, providers, insurance`\n",
    "- **Format:** Delta Lake Table "
   ]
  },
  {
   "cell_type": "code",
   "execution_count": 0,
   "metadata": {
    "application/vnd.databricks.v1+cell": {
     "cellMetadata": {
      "byteLimit": 2048000,
      "rowLimit": 10000
     },
     "inputWidgets": {},
     "nuid": "daddf852-7fc7-4456-aa4c-d4e859bdc729",
     "showTitle": false,
     "tableResultSettingsMap": {},
     "title": ""
    }
   },
   "outputs": [],
   "source": [
    "dbutils.widgets.text(\"dimensional_table\", \"\")\n",
    "dimensional_table = dbutils.widgets.get(\"dimensional_table\")\n",
    "\n",
    "assert dimensional_table, \"Missing required parameter: dimensional_table\""
   ]
  },
  {
   "cell_type": "code",
   "execution_count": 0,
   "metadata": {
    "application/vnd.databricks.v1+cell": {
     "cellMetadata": {
      "byteLimit": 2048000,
      "rowLimit": 10000
     },
     "inputWidgets": {},
     "nuid": "9f224b3a-91fb-4067-8555-b8003e284f4e",
     "showTitle": false,
     "tableResultSettingsMap": {},
     "title": ""
    }
   },
   "outputs": [],
   "source": [
    "# Databricks Storage\n",
    "catalog_name = \"workspace\"\n",
    "schema_silver = \"hospital_silver\"\n",
    "schema_bronze = \"hospital_bronze\"\n",
    "schema_gold = \"hospital_gold\"\n",
    "\n",
    "# data source path\n",
    "data_source = \"s3://buckethospitaldata/data_batching/\"\n",
    "\n",
    "# for streaming: schema and checkpoint location (stored in data source S3 buckets)\n",
    "checkpoint_location = f\"s3://buckethospitaldata/pipeline_checkpoints/data_batching/_checkpoints/silver/{dimensional_table}\""
   ]
  },
  {
   "cell_type": "markdown",
   "metadata": {
    "application/vnd.databricks.v1+cell": {
     "cellMetadata": {},
     "inputWidgets": {},
     "nuid": "c2d2472d-fe7b-478e-b1b1-32e57185dafe",
     "showTitle": false,
     "tableResultSettingsMap": {},
     "title": ""
    }
   },
   "source": [
    "## Cities"
   ]
  },
  {
   "cell_type": "code",
   "execution_count": 0,
   "metadata": {
    "application/vnd.databricks.v1+cell": {
     "cellMetadata": {},
     "inputWidgets": {},
     "nuid": "4c7dd011-2df1-4197-b3c2-e2e575543bc2",
     "showTitle": false,
     "tableResultSettingsMap": {},
     "title": ""
    }
   },
   "outputs": [],
   "source": [
    "if dimensional_table == 'cities':\n",
    "  df = spark.readStream.table(f\"{catalog_name}.{schema_bronze}.{dimensional_table}\")\n",
    "\n",
    "\n",
    "  (\n",
    "    df.writeStream\n",
    "    .format(\"delta\")\n",
    "    .option(\"checkpointLocation\", checkpoint_location)\n",
    "    .option(\"mergeSchema\", \"true\")  # Optional but useful\n",
    "    .outputMode(\"append\")\n",
    "    .trigger(once=True)\n",
    "    .table(f\"{schema_silver}.{dimensional_table}\")\n",
    ")\n"
   ]
  },
  {
   "cell_type": "markdown",
   "metadata": {
    "application/vnd.databricks.v1+cell": {
     "cellMetadata": {},
     "inputWidgets": {},
     "nuid": "572fccc5-20d8-4f89-9592-3304a4657485",
     "showTitle": false,
     "tableResultSettingsMap": {},
     "title": ""
    }
   },
   "source": [
    "## Insurance"
   ]
  },
  {
   "cell_type": "code",
   "execution_count": 0,
   "metadata": {
    "application/vnd.databricks.v1+cell": {
     "cellMetadata": {},
     "inputWidgets": {},
     "nuid": "9c59ba3e-dac5-4a41-b40b-f7fc7e832f2a",
     "showTitle": false,
     "tableResultSettingsMap": {},
     "title": ""
    }
   },
   "outputs": [],
   "source": [
    "if dimensional_table == 'insurance':\n",
    "  df = spark.readStream.table(f\"{catalog_name}.{schema_bronze}.{dimensional_table}\")\n",
    "\n",
    "  (\n",
    "    df.writeStream\n",
    "    .format(\"delta\")\n",
    "    .option(\"checkpointLocation\", checkpoint_location)\n",
    "    .option(\"mergeSchema\", \"true\")  # Optional but useful\n",
    "    .outputMode(\"append\")\n",
    "    .trigger(once=True)\n",
    "    .table(f\"{schema_silver}.{dimensional_table}\")\n",
    ")\n"
   ]
  },
  {
   "cell_type": "markdown",
   "metadata": {
    "application/vnd.databricks.v1+cell": {
     "cellMetadata": {},
     "inputWidgets": {},
     "nuid": "393a368e-61a3-44a9-b193-4309603875e8",
     "showTitle": false,
     "tableResultSettingsMap": {},
     "title": ""
    }
   },
   "source": [
    "## Departments"
   ]
  },
  {
   "cell_type": "code",
   "execution_count": 0,
   "metadata": {
    "application/vnd.databricks.v1+cell": {
     "cellMetadata": {},
     "inputWidgets": {},
     "nuid": "7874dba9-0514-484c-a0b4-760ca5e8e648",
     "showTitle": false,
     "tableResultSettingsMap": {},
     "title": ""
    }
   },
   "outputs": [],
   "source": [
    "if dimensional_table == 'departments':\n",
    "  df = spark.readStream.table(f\"{catalog_name}.{schema_bronze}.{dimensional_table}\")\n",
    "\n",
    "  (\n",
    "    df.writeStream\n",
    "    .format(\"delta\")\n",
    "    .option(\"checkpointLocation\", checkpoint_location)\n",
    "    .option(\"mergeSchema\", \"true\")  # Optional but useful\n",
    "    .outputMode(\"append\")\n",
    "    .trigger(once=True)\n",
    "    .table(f\"{schema_silver}.{dimensional_table}\")\n",
    ")\n"
   ]
  },
  {
   "cell_type": "markdown",
   "metadata": {
    "application/vnd.databricks.v1+cell": {
     "cellMetadata": {},
     "inputWidgets": {},
     "nuid": "9f488c1e-aa6a-4551-bb0b-c204e2303c1c",
     "showTitle": false,
     "tableResultSettingsMap": {},
     "title": ""
    }
   },
   "source": [
    "## Procedures"
   ]
  },
  {
   "cell_type": "code",
   "execution_count": 0,
   "metadata": {
    "application/vnd.databricks.v1+cell": {
     "cellMetadata": {},
     "inputWidgets": {},
     "nuid": "73371449-f293-4d1b-ab6b-b4ddb4a533c7",
     "showTitle": false,
     "tableResultSettingsMap": {},
     "title": ""
    }
   },
   "outputs": [],
   "source": [
    "if dimensional_table == 'procedures':\n",
    "  df_procedures = spark.readStream.table(f\"{catalog_name}.{schema_bronze}.{dimensional_table}\")\n",
    "\n",
    "  (\n",
    "    df_procedures.writeStream\n",
    "    .format(\"delta\")\n",
    "    .option(\"checkpointLocation\", checkpoint_location)\n",
    "    .option(\"mergeSchema\", \"true\")  # Optional but useful\n",
    "    .outputMode(\"append\")\n",
    "    .trigger(once=True)\n",
    "    .table(f\"{schema_silver}.{dimensional_table}\")\n",
    ")\n"
   ]
  },
  {
   "cell_type": "markdown",
   "metadata": {
    "application/vnd.databricks.v1+cell": {
     "cellMetadata": {},
     "inputWidgets": {},
     "nuid": "45edcfb5-a1ae-4f69-b159-c0d2b2b60e70",
     "showTitle": false,
     "tableResultSettingsMap": {},
     "title": ""
    }
   },
   "source": [
    "## Diagnoses"
   ]
  },
  {
   "cell_type": "code",
   "execution_count": 0,
   "metadata": {
    "application/vnd.databricks.v1+cell": {
     "cellMetadata": {},
     "inputWidgets": {},
     "nuid": "39882c94-3a11-4600-9924-92a6c6eadc9a",
     "showTitle": false,
     "tableResultSettingsMap": {},
     "title": ""
    }
   },
   "outputs": [],
   "source": [
    "if dimensional_table == 'diagnoses':\n",
    "  df_diagnoses = spark.readStream.table(f\"{catalog_name}.{schema_bronze}.{dimensional_table}\")\n",
    "\n",
    "  (\n",
    "    df_diagnoses.writeStream\n",
    "    .format(\"delta\")\n",
    "    .option(\"checkpointLocation\", checkpoint_location)\n",
    "    .option(\"mergeSchema\", \"true\")  # Optional but useful\n",
    "    .outputMode(\"append\")\n",
    "    .trigger(once=True)\n",
    "    .table(f\"{schema_silver}.{dimensional_table}\")\n",
    ")\n"
   ]
  },
  {
   "cell_type": "markdown",
   "metadata": {
    "application/vnd.databricks.v1+cell": {
     "cellMetadata": {},
     "inputWidgets": {},
     "nuid": "fa6d7c7c-be2a-4ac2-978e-063408d1e191",
     "showTitle": false,
     "tableResultSettingsMap": {},
     "title": ""
    }
   },
   "source": [
    "## Providers"
   ]
  },
  {
   "cell_type": "code",
   "execution_count": 0,
   "metadata": {
    "application/vnd.databricks.v1+cell": {
     "cellMetadata": {},
     "inputWidgets": {},
     "nuid": "7d89d119-5074-4cd3-9d17-0aaff220dd54",
     "showTitle": false,
     "tableResultSettingsMap": {},
     "title": ""
    }
   },
   "outputs": [],
   "source": [
    "if dimensional_table == 'providers':\n",
    "  df_providers = spark.readStream.table(f\"{catalog_name}.{schema_bronze}.{dimensional_table}\")\n",
    "\n",
    "  (\n",
    "    df_providers.writeStream\n",
    "    .format(\"delta\")\n",
    "    .option(\"checkpointLocation\", checkpoint_location)\n",
    "    .option(\"mergeSchema\", \"true\")  # Optional but useful\n",
    "    .outputMode(\"append\")\n",
    "    .trigger(once=True)\n",
    "    .table(f\"{schema_silver}.{dimensional_table}\")\n",
    ")\n"
   ]
  }
 ],
 "metadata": {
  "application/vnd.databricks.v1+notebook": {
   "computePreferences": null,
   "dashboards": [],
   "environmentMetadata": {
    "base_environment": "",
    "environment_version": "2"
   },
   "inputWidgetPreferences": null,
   "language": "python",
   "notebookMetadata": {
    "pythonIndentUnit": 4
   },
   "notebookName": "pipeline_bronze_to_silver_dimensions",
   "widgets": {
    "dimensional_table": {
     "currentValue": "cities",
     "nuid": "fbf29984-0f75-41d7-bfb5-f0c3dd9cdfa7",
     "typedWidgetInfo": {
      "autoCreated": false,
      "defaultValue": "",
      "label": null,
      "name": "dimensional_table",
      "options": {
       "widgetDisplayType": "Text",
       "validationRegex": null
      },
      "parameterDataType": "String"
     },
     "widgetInfo": {
      "widgetType": "text",
      "defaultValue": "",
      "label": null,
      "name": "dimensional_table",
      "options": {
       "widgetType": "text",
       "autoCreated": null,
       "validationRegex": null
      }
     }
    }
   }
  },
  "language_info": {
   "name": "python"
  }
 },
 "nbformat": 4,
 "nbformat_minor": 0
}
