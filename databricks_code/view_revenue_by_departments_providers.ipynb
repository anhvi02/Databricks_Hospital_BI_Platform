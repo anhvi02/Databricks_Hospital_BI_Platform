{
 "cells": [
  {
   "cell_type": "markdown",
   "metadata": {
    "application/vnd.databricks.v1+cell": {
     "cellMetadata": {
      "byteLimit": 2048000,
      "rowLimit": 10000
     },
     "inputWidgets": {},
     "nuid": "4aa04713-169b-4917-873f-d6a36c45bb95",
     "showTitle": false,
     "tableResultSettingsMap": {},
     "title": ""
    }
   },
   "source": [
    "# View: Revenue by Departments and Providers\n",
    "\n",
    "## Data Source\n",
    "- **Departments:** `workspace.hospital_silver.departments`\n",
    "- **Visits:** `workspace.hospital_silver.visits`\n",
    "- **providers:** `workspace.hospital_silver.providers`\n",
    "\n",
    "## Details: \n",
    "- Location: `workspace.hospital_gold.view_revenue_departments_providers`\n",
    "- Description: Sum of Revenue group by departments and providers\n"
   ]
  },
  {
   "cell_type": "code",
   "execution_count": 0,
   "metadata": {
    "application/vnd.databricks.v1+cell": {
     "cellMetadata": {
      "byteLimit": 2048000,
      "rowLimit": 10000
     },
     "inputWidgets": {},
     "nuid": "b8bce5a5-853f-42bb-b0bb-1e16a9fd831f",
     "showTitle": false,
     "tableResultSettingsMap": {},
     "title": ""
    }
   },
   "outputs": [],
   "source": [
    "# Databricks Storage\n",
    "catalog_name = \"workspace\"\n",
    "schema_bronze = \"hospital_bronze\"\n",
    "schema_silver = \"hospital_silver\"\n",
    "schema_gold = \"hospital_gold\"\n",
    "\n",
    "# view name: name of the view in schema and checkpoint\n",
    "view_name = \"view_revenue_departments_providers\"\n",
    "\n",
    "# data source path\n",
    "data_source = \"s3://buckethospitaldata/view/\"\n",
    "\n",
    "# for streaming: schema and checkpoint location (stored in data source S3 buckets)\n",
    "checkpoint_location = f\"{data_source}_checkpoints/{view_name}\""
   ]
  },
  {
   "cell_type": "markdown",
   "metadata": {
    "application/vnd.databricks.v1+cell": {
     "cellMetadata": {
      "byteLimit": 2048000,
      "rowLimit": 10000
     },
     "inputWidgets": {},
     "nuid": "2f16d714-b82b-417d-8a3d-ea42016dd7d6",
     "showTitle": false,
     "tableResultSettingsMap": {},
     "title": ""
    }
   },
   "source": [
    "## Read data from Silver Layer"
   ]
  },
  {
   "cell_type": "markdown",
   "metadata": {
    "application/vnd.databricks.v1+cell": {
     "cellMetadata": {
      "byteLimit": 2048000,
      "rowLimit": 10000
     },
     "inputWidgets": {},
     "nuid": "0a444132-5add-4a0f-b72f-4e8be5ae5b7f",
     "showTitle": false,
     "tableResultSettingsMap": {},
     "title": ""
    }
   },
   "source": [
    "### Visits (streaming table)"
   ]
  },
  {
   "cell_type": "code",
   "execution_count": 0,
   "metadata": {
    "application/vnd.databricks.v1+cell": {
     "cellMetadata": {
      "byteLimit": 2048000,
      "rowLimit": 10000
     },
     "inputWidgets": {},
     "nuid": "c3f86bd6-3229-4b01-b4e2-aca29ec5e6f6",
     "showTitle": false,
     "tableResultSettingsMap": {},
     "title": ""
    }
   },
   "outputs": [],
   "source": [
    "df_visits = spark.read.table(f\"{catalog_name}.{schema_silver}.visits\")"
   ]
  },
  {
   "cell_type": "markdown",
   "metadata": {
    "application/vnd.databricks.v1+cell": {
     "cellMetadata": {
      "byteLimit": 2048000,
      "rowLimit": 10000
     },
     "inputWidgets": {},
     "nuid": "351b63fe-0e29-45cb-9b9f-62470caacf40",
     "showTitle": false,
     "tableResultSettingsMap": {},
     "title": ""
    }
   },
   "source": [
    "### Departments (static table)"
   ]
  },
  {
   "cell_type": "code",
   "execution_count": 0,
   "metadata": {
    "application/vnd.databricks.v1+cell": {
     "cellMetadata": {
      "byteLimit": 2048000,
      "rowLimit": 10000
     },
     "inputWidgets": {},
     "nuid": "5aec9d7f-69d7-496f-a65b-1b397bd967bc",
     "showTitle": false,
     "tableResultSettingsMap": {},
     "title": ""
    }
   },
   "outputs": [],
   "source": [
    "df_departments = spark.read.table(f\"{catalog_name}.{schema_silver}.departments\")"
   ]
  },
  {
   "cell_type": "markdown",
   "metadata": {
    "application/vnd.databricks.v1+cell": {
     "cellMetadata": {
      "byteLimit": 2048000,
      "rowLimit": 10000
     },
     "inputWidgets": {},
     "nuid": "0aa8a24e-042d-4f7c-afc4-f88e4a687daf",
     "showTitle": false,
     "tableResultSettingsMap": {},
     "title": ""
    }
   },
   "source": [
    "### Providers (static table)"
   ]
  },
  {
   "cell_type": "code",
   "execution_count": 0,
   "metadata": {
    "application/vnd.databricks.v1+cell": {
     "cellMetadata": {
      "byteLimit": 2048000,
      "rowLimit": 10000
     },
     "inputWidgets": {},
     "nuid": "e096253a-f23d-4e9f-8440-cef2f3eb163d",
     "showTitle": false,
     "tableResultSettingsMap": {},
     "title": ""
    }
   },
   "outputs": [],
   "source": [
    "df_providers = spark.read.table(f\"{catalog_name}.{schema_silver}.providers\")"
   ]
  },
  {
   "cell_type": "markdown",
   "metadata": {
    "application/vnd.databricks.v1+cell": {
     "cellMetadata": {
      "byteLimit": 2048000,
      "rowLimit": 10000
     },
     "inputWidgets": {},
     "nuid": "3f452aaf-6292-498f-be5a-15a5215a9b5d",
     "showTitle": false,
     "tableResultSettingsMap": {},
     "title": ""
    }
   },
   "source": [
    "## Join datasets"
   ]
  },
  {
   "cell_type": "code",
   "execution_count": 0,
   "metadata": {
    "application/vnd.databricks.v1+cell": {
     "cellMetadata": {
      "byteLimit": 2048000,
      "rowLimit": 10000
     },
     "inputWidgets": {},
     "nuid": "cea70cd2-1ea1-4881-a0f4-8032102e0919",
     "showTitle": false,
     "tableResultSettingsMap": {},
     "title": ""
    }
   },
   "outputs": [],
   "source": [
    "df_join = df_visits.join(df_departments,df_visits.Department_ID == df_departments.Department_ID,\"inner\").join(df_providers,df_visits.Provider_ID == df_providers.Provider_ID,\"inner\")"
   ]
  },
  {
   "cell_type": "markdown",
   "metadata": {
    "application/vnd.databricks.v1+cell": {
     "cellMetadata": {
      "byteLimit": 2048000,
      "rowLimit": 10000
     },
     "inputWidgets": {},
     "nuid": "3e8ecb4f-8e96-4b6a-9bc8-bddb535802e4",
     "showTitle": false,
     "tableResultSettingsMap": {},
     "title": ""
    }
   },
   "source": [
    "## Aggregate data"
   ]
  },
  {
   "cell_type": "code",
   "execution_count": 0,
   "metadata": {
    "application/vnd.databricks.v1+cell": {
     "cellMetadata": {
      "byteLimit": 2048000,
      "rowLimit": 10000
     },
     "inputWidgets": {},
     "nuid": "b1755c7f-121c-473b-b4ed-a9c17fec1c24",
     "showTitle": false,
     "tableResultSettingsMap": {},
     "title": ""
    }
   },
   "outputs": [],
   "source": [
    "from pyspark.sql.functions import countDistinct,sum,approx_count_distinct\n",
    "view_revenue_departments_providers  = df_join.groupBy(\"Department\",\"Provider_Name\").agg(sum(\"Revenue_per_visit\").alias(\"Revenue\"),approx_count_distinct(\"Patient_ID\").alias(\"Number_of_unique_patient\")).sort(\"Department\",\"Provider_Name\")\n",
    "# display(view_revenue_depart_provider)"
   ]
  },
  {
   "cell_type": "markdown",
   "metadata": {
    "application/vnd.databricks.v1+cell": {
     "cellMetadata": {
      "byteLimit": 2048000,
      "rowLimit": 10000
     },
     "inputWidgets": {},
     "nuid": "fb60448e-11e2-4c95-91bb-d9244ced9419",
     "showTitle": false,
     "tableResultSettingsMap": {},
     "title": ""
    }
   },
   "source": [
    "## Write data as a View in Gold Layer"
   ]
  },
  {
   "cell_type": "code",
   "execution_count": 0,
   "metadata": {
    "application/vnd.databricks.v1+cell": {
     "cellMetadata": {
      "byteLimit": 2048000,
      "rowLimit": 10000
     },
     "inputWidgets": {},
     "nuid": "a8e6f515-a6cb-44d7-b762-dc84c56ac1e1",
     "showTitle": false,
     "tableResultSettingsMap": {},
     "title": ""
    }
   },
   "outputs": [],
   "source": [
    "(\n",
    "    view_revenue_departments_providers.write\n",
    "    .format(\"delta\")\n",
    "    .mode(\"overwrite\")  \n",
    "    .option(\"overwriteSchema\", \"true\")  \n",
    "    .saveAsTable(f\"{catalog_name}.{schema_gold}.{view_name}\")\n",
    ")"
   ]
  }
 ],
 "metadata": {
  "application/vnd.databricks.v1+notebook": {
   "computePreferences": null,
   "dashboards": [],
   "environmentMetadata": {
    "base_environment": "",
    "environment_version": "2"
   },
   "inputWidgetPreferences": null,
   "language": "python",
   "notebookMetadata": {
    "pythonIndentUnit": 4
   },
   "notebookName": "view_revenue_by_departments_providers",
   "widgets": {}
  },
  "language_info": {
   "name": "python"
  }
 },
 "nbformat": 4,
 "nbformat_minor": 0
}
