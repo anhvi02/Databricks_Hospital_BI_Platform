{
 "cells": [
  {
   "cell_type": "markdown",
   "metadata": {
    "application/vnd.databricks.v1+cell": {
     "cellMetadata": {
      "byteLimit": 2048000,
      "rowLimit": 10000
     },
     "inputWidgets": {},
     "nuid": "4aa04713-169b-4917-873f-d6a36c45bb95",
     "showTitle": false,
     "tableResultSettingsMap": {},
     "title": ""
    }
   },
   "source": [
    "# View: Revenue over time\n",
    "\n",
    "## Data Source\n",
    "- **Visits:** `workspace.hospital_silver.visits`\n",
    "\n",
    "## Details: \n",
    "- Location: `workspace.hospital_gold.visits`\n",
    "- Description: Total Revenue over Time, breakdown by Month, Quarter and Year\n"
   ]
  },
  {
   "cell_type": "code",
   "execution_count": 0,
   "metadata": {
    "application/vnd.databricks.v1+cell": {
     "cellMetadata": {
      "byteLimit": 2048000,
      "rowLimit": 10000
     },
     "inputWidgets": {},
     "nuid": "b8bce5a5-853f-42bb-b0bb-1e16a9fd831f",
     "showTitle": false,
     "tableResultSettingsMap": {},
     "title": ""
    }
   },
   "outputs": [],
   "source": [
    "# Databricks Storage\n",
    "catalog_name = \"workspace\"\n",
    "schema_bronze = \"hospital_bronze\"\n",
    "schema_silver = \"hospital_silver\"\n",
    "schema_gold = \"hospital_gold\"\n",
    "\n",
    "# view name: name of the view in schema and checkpoint\n",
    "view_name = \"view_revenue_over_time\"\n",
    "\n",
    "# data source path\n",
    "data_source = \"s3://buckethospitaldata/view/\"\n",
    "\n",
    "# for streaming: schema and checkpoint location (stored in data source S3 buckets)\n",
    "checkpoint_location = f\"{data_source}_checkpoints/{view_name}\""
   ]
  },
  {
   "cell_type": "markdown",
   "metadata": {
    "application/vnd.databricks.v1+cell": {
     "cellMetadata": {
      "byteLimit": 2048000,
      "rowLimit": 10000
     },
     "inputWidgets": {},
     "nuid": "9df2f4ac-6cfb-44da-b613-9ff2e9084ff8",
     "showTitle": false,
     "tableResultSettingsMap": {},
     "title": ""
    }
   },
   "source": [
    "## Read data from Silver Layer"
   ]
  },
  {
   "cell_type": "code",
   "execution_count": 0,
   "metadata": {
    "application/vnd.databricks.v1+cell": {
     "cellMetadata": {
      "byteLimit": 2048000,
      "rowLimit": 10000
     },
     "inputWidgets": {},
     "nuid": "c3f86bd6-3229-4b01-b4e2-aca29ec5e6f6",
     "showTitle": false,
     "tableResultSettingsMap": {},
     "title": ""
    }
   },
   "outputs": [],
   "source": [
    "df_visits = spark.read.table(f\"{catalog_name}.{schema_silver}.visits\")"
   ]
  },
  {
   "cell_type": "markdown",
   "metadata": {
    "application/vnd.databricks.v1+cell": {
     "cellMetadata": {
      "byteLimit": 2048000,
      "rowLimit": 10000
     },
     "inputWidgets": {},
     "nuid": "6f63fb95-6464-43a2-a293-569967a5311e",
     "showTitle": false,
     "tableResultSettingsMap": {},
     "title": ""
    }
   },
   "source": [
    "## Aggregate data by Date"
   ]
  },
  {
   "cell_type": "code",
   "execution_count": 0,
   "metadata": {
    "application/vnd.databricks.v1+cell": {
     "cellMetadata": {
      "byteLimit": 2048000,
      "rowLimit": 10000
     },
     "inputWidgets": {},
     "nuid": "640de2da-22ba-497f-80aa-d8d7f6e9e418",
     "showTitle": false,
     "tableResultSettingsMap": {},
     "title": ""
    }
   },
   "outputs": [],
   "source": [
    "from pyspark.sql.functions import col\n",
    "df_group = df_visits.groupBy(\"Date_of_Visit\").agg({\"Revenue_per_visit\": \"sum\", \"Patient_ID\": \"count\"}).sort(\"Date_of_Visit\")\n",
    "\n",
    "df_group = df_group.select(col(\"Date_of_Visit\").alias(\"Date\"),col(\"sum(Revenue_per_visit)\").alias(\"Revenue_per_day\"),col(\"count(Patient_ID)\").alias(\"Total_patient\"))"
   ]
  },
  {
   "cell_type": "markdown",
   "metadata": {
    "application/vnd.databricks.v1+cell": {
     "cellMetadata": {
      "byteLimit": 2048000,
      "rowLimit": 10000
     },
     "inputWidgets": {},
     "nuid": "0cd15e00-2275-40a5-beb8-86cd4918a8be",
     "showTitle": false,
     "tableResultSettingsMap": {},
     "title": ""
    }
   },
   "source": [
    "## Split Date to Month and Year"
   ]
  },
  {
   "cell_type": "code",
   "execution_count": 0,
   "metadata": {
    "application/vnd.databricks.v1+cell": {
     "cellMetadata": {
      "byteLimit": 2048000,
      "rowLimit": 10000
     },
     "inputWidgets": {},
     "nuid": "3823b3d6-d3b6-4e5b-ab2f-5a4a12bd6830",
     "showTitle": false,
     "tableResultSettingsMap": {},
     "title": ""
    }
   },
   "outputs": [],
   "source": [
    "# import datetime\n",
    "# # from pyspark.sql import functions as sf\n",
    "# from pyspark.sql.functions import concat, col, lit, extract, typeof, monthname\n",
    "# df_group = df_group.select(\n",
    "#     '*',\n",
    "#     extract(lit('YEAR'), 'Date').alias('year'),\n",
    "#     extract(lit('month'), 'Date').alias('month'),\n",
    "#     extract(lit('WEEK'), 'Date').alias('week'),\n",
    "#     extract(lit('D'), df_group.Date).alias('day'),\n",
    "#     extract(lit('M'), df_group.Date).alias('minute'),\n",
    "#     extract(lit('S'), df_group.Date).alias('second')\n",
    "# )\n",
    "# df_group = df_group.select(\"*\", typeof('Date'), monthname('Date'))\n",
    "# df_group = df_group.withColumn(\"Month_Year\", concat(col(\"monthname(Date)\"), lit(\",\"), col(\"year\")))\n",
    "# df_group = df_group.drop('monthname(Date)')\n",
    "# df_group = df_group.drop('typeof(Date)')\n",
    "\n",
    "# display(df_group)"
   ]
  },
  {
   "cell_type": "code",
   "execution_count": 0,
   "metadata": {
    "application/vnd.databricks.v1+cell": {
     "cellMetadata": {
      "byteLimit": 2048000,
      "rowLimit": 10000
     },
     "inputWidgets": {},
     "nuid": "947dd776-f42b-4cb4-a369-79fbe5e8a801",
     "showTitle": false,
     "tableResultSettingsMap": {},
     "title": ""
    }
   },
   "outputs": [],
   "source": [
    "from pyspark.sql.functions import (\n",
    "    year, month, quarter, monthname,\n",
    "    concat_ws, concat, col, lit\n",
    ")\n",
    "\n",
    "# Add Year, Month Name, Quarter\n",
    "view_revenue_over_time = df_group.withColumns({\n",
    "    \"Year\": year(\"Date\"),\n",
    "    \"Month\": month(\"Date\"),\n",
    "    \"Quarter\": concat(lit(\"Q\"), quarter(\"Date\")),\n",
    "    \"Month_Year\": concat_ws(\" \", monthname(\"Date\"), concat(lit(\"(\"), year(\"Date\").cast(\"string\"), lit(\")\")))\n",
    "})"
   ]
  },
  {
   "cell_type": "code",
   "execution_count": 0,
   "metadata": {
    "application/vnd.databricks.v1+cell": {
     "cellMetadata": {
      "byteLimit": 2048000,
      "rowLimit": 10000
     },
     "inputWidgets": {},
     "nuid": "2928d5d7-6d7c-4939-8ffa-da3e029c293b",
     "showTitle": false,
     "tableResultSettingsMap": {},
     "title": ""
    }
   },
   "outputs": [],
   "source": [
    "# from pyspark.sql.functions import countDistinct,sum,count\n",
    "# revenue_over_time = df_group.groupBy(\"Month_Year\").agg(sum(\"Revenue_per_day\").alias(\"Revenue_per_day\"),count(\"Total_Patient\").alias(\"Total_Patient\")).sort(\"Month_Year\")\n",
    "# # display(revenue_over_time)"
   ]
  },
  {
   "cell_type": "markdown",
   "metadata": {
    "application/vnd.databricks.v1+cell": {
     "cellMetadata": {
      "byteLimit": 2048000,
      "rowLimit": 10000
     },
     "inputWidgets": {},
     "nuid": "17e18bbe-3033-422c-8fe5-c18360e94ef7",
     "showTitle": false,
     "tableResultSettingsMap": {},
     "title": ""
    }
   },
   "source": [
    "## Write data as a View in Gold Layer"
   ]
  },
  {
   "cell_type": "code",
   "execution_count": 0,
   "metadata": {
    "application/vnd.databricks.v1+cell": {
     "cellMetadata": {
      "byteLimit": 2048000,
      "rowLimit": 10000
     },
     "inputWidgets": {},
     "nuid": "63b53503-1537-46c6-9cb1-9b97fb58f36c",
     "showTitle": false,
     "tableResultSettingsMap": {},
     "title": ""
    }
   },
   "outputs": [],
   "source": [
    "(\n",
    "    view_revenue_over_time.write\n",
    "    .format(\"delta\")\n",
    "    .mode(\"overwrite\")  \n",
    "    .option(\"overwriteSchema\", \"true\") \n",
    "    .saveAsTable(f\"{catalog_name}.{schema_gold}.{view_name}\")\n",
    ")"
   ]
  }
 ],
 "metadata": {
  "application/vnd.databricks.v1+notebook": {
   "computePreferences": null,
   "dashboards": [],
   "environmentMetadata": {
    "base_environment": "",
    "environment_version": "2"
   },
   "inputWidgetPreferences": null,
   "language": "python",
   "notebookMetadata": {
    "pythonIndentUnit": 4
   },
   "notebookName": "view_revenue_over_time",
   "widgets": {}
  },
  "language_info": {
   "name": "python"
  }
 },
 "nbformat": 4,
 "nbformat_minor": 0
}
