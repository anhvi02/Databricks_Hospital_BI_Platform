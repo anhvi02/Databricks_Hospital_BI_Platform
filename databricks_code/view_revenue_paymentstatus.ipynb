{
 "cells": [
  {
   "cell_type": "markdown",
   "metadata": {
    "application/vnd.databricks.v1+cell": {
     "cellMetadata": {
      "byteLimit": 2048000,
      "rowLimit": 10000
     },
     "inputWidgets": {},
     "nuid": "df23f69d-9088-49b2-96ce-7ffd197a87b3",
     "showTitle": false,
     "tableResultSettingsMap": {},
     "title": ""
    }
   },
   "source": [
    "# View: Revenue and NumberOfPatients by Payment Status\n",
    "\n",
    "## Data Source\n",
    "- **Visits:** `workspace.hospital_silver.visits`\n",
    "\n",
    "## Details: \n",
    "- Location: `workspace.hospital_gold.view_revenue_paymentstatus`\n",
    "- Description: Sum Revenue and Count Distinct of Patient in Payment Status\n"
   ]
  },
  {
   "cell_type": "code",
   "execution_count": 0,
   "metadata": {
    "application/vnd.databricks.v1+cell": {
     "cellMetadata": {
      "byteLimit": 2048000,
      "rowLimit": 10000
     },
     "inputWidgets": {},
     "nuid": "08b2337c-e817-496f-8f48-2a5195a47733",
     "showTitle": false,
     "tableResultSettingsMap": {},
     "title": ""
    }
   },
   "outputs": [],
   "source": [
    "# Databricks Storage\n",
    "catalog_name = \"workspace\"\n",
    "schema_bronze = \"hospital_bronze\"\n",
    "schema_silver = \"hospital_silver\"\n",
    "schema_gold = \"hospital_gold\"\n",
    "\n",
    "# view name: name of the view in schema and checkpoint\n",
    "view_name = \"view_revenue_paymentstatus\"\n",
    "\n",
    "# data source path\n",
    "data_source = \"s3://buckethospitaldata/view/\"\n",
    "\n",
    "# for streaming: schema and checkpoint location (stored in data source S3 buckets)\n",
    "checkpoint_location = f\"{data_source}_checkpoints/{view_name}\""
   ]
  },
  {
   "cell_type": "markdown",
   "metadata": {
    "application/vnd.databricks.v1+cell": {
     "cellMetadata": {
      "byteLimit": 2048000,
      "rowLimit": 10000
     },
     "inputWidgets": {},
     "nuid": "97d43186-65c8-43d5-aa15-283097f3db0d",
     "showTitle": false,
     "tableResultSettingsMap": {},
     "title": ""
    }
   },
   "source": [
    "%md\n",
    "## Read data from Silver Layer"
   ]
  },
  {
   "cell_type": "code",
   "execution_count": 0,
   "metadata": {
    "application/vnd.databricks.v1+cell": {
     "cellMetadata": {
      "byteLimit": 2048000,
      "rowLimit": 10000
     },
     "inputWidgets": {},
     "nuid": "e178b9c1-cb27-45a0-bc45-0baf78edf663",
     "showTitle": false,
     "tableResultSettingsMap": {},
     "title": ""
    }
   },
   "outputs": [],
   "source": [
    "df_visits = spark.read.table(f\"{catalog_name}.{schema_silver}.visits\")"
   ]
  },
  {
   "cell_type": "markdown",
   "metadata": {
    "application/vnd.databricks.v1+cell": {
     "cellMetadata": {
      "byteLimit": 2048000,
      "rowLimit": 10000
     },
     "inputWidgets": {},
     "nuid": "4ae3277b-121c-432f-b005-cde7d9d32d8a",
     "showTitle": false,
     "tableResultSettingsMap": {},
     "title": ""
    }
   },
   "source": [
    "## Aggregate data"
   ]
  },
  {
   "cell_type": "code",
   "execution_count": 0,
   "metadata": {
    "application/vnd.databricks.v1+cell": {
     "cellMetadata": {
      "byteLimit": 2048000,
      "rowLimit": 10000
     },
     "inputWidgets": {},
     "nuid": "d5975cd4-c7eb-473a-9c37-f7a2e0ae0db3",
     "showTitle": false,
     "tableResultSettingsMap": {},
     "title": ""
    }
   },
   "outputs": [],
   "source": [
    "from pyspark.sql.functions import countDistinct, sum, approx_count_distinct\n",
    "\n",
    "view_revenue_paymentstatus = df_visits.groupBy(\"Payment_Status\").agg(sum(\"Revenue_per_visit\").alias(\"Revenue\"),approx_count_distinct(\"Patient_ID\").alias(\"Number_of_unique_patient\")).sort(\"Payment_Status\")"
   ]
  },
  {
   "cell_type": "markdown",
   "metadata": {
    "application/vnd.databricks.v1+cell": {
     "cellMetadata": {
      "byteLimit": 2048000,
      "rowLimit": 10000
     },
     "inputWidgets": {},
     "nuid": "e92a9f6a-2c88-4967-92d9-b432d26c7295",
     "showTitle": false,
     "tableResultSettingsMap": {},
     "title": ""
    }
   },
   "source": [
    "## Write data as a View in Gold Layer"
   ]
  },
  {
   "cell_type": "code",
   "execution_count": 0,
   "metadata": {
    "application/vnd.databricks.v1+cell": {
     "cellMetadata": {
      "byteLimit": 2048000,
      "rowLimit": 10000
     },
     "inputWidgets": {},
     "nuid": "483b8de6-b2c7-4458-b68a-8c5f6c46b1f1",
     "showTitle": false,
     "tableResultSettingsMap": {},
     "title": ""
    }
   },
   "outputs": [],
   "source": [
    "(\n",
    "    view_revenue_paymentstatus.write\n",
    "    .format(\"delta\")\n",
    "    .mode(\"overwrite\")  \n",
    "    .option(\"overwriteSchema\", \"true\") \n",
    "    .saveAsTable(f\"{catalog_name}.{schema_gold}.{view_name}\")\n",
    ")"
   ]
  }
 ],
 "metadata": {
  "application/vnd.databricks.v1+notebook": {
   "computePreferences": {
    "hardware": {
     "accelerator": null,
     "gpuPoolId": null,
     "memory": null
    }
   },
   "dashboards": [],
   "environmentMetadata": {
    "base_environment": "",
    "environment_version": "2"
   },
   "inputWidgetPreferences": null,
   "language": "python",
   "notebookMetadata": {
    "pythonIndentUnit": 4
   },
   "notebookName": "view_revenue_paymentstatus",
   "widgets": {}
  },
  "language_info": {
   "name": "python"
  }
 },
 "nbformat": 4,
 "nbformat_minor": 0
}
