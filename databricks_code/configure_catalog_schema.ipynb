{
 "cells": [
  {
   "cell_type": "markdown",
   "metadata": {
    "application/vnd.databricks.v1+cell": {
     "cellMetadata": {},
     "inputWidgets": {},
     "nuid": "077b327b-42ae-4551-a9e7-8cc613691b96",
     "showTitle": false,
     "tableResultSettingsMap": {},
     "title": ""
    }
   },
   "source": [
    "## Create Schema"
   ]
  },
  {
   "cell_type": "code",
   "execution_count": 0,
   "metadata": {
    "application/vnd.databricks.v1+cell": {
     "cellMetadata": {
      "byteLimit": 2048000,
      "rowLimit": 10000
     },
     "inputWidgets": {},
     "nuid": "d09a71ec-87e5-41c1-b4c4-a7cd1d0f8365",
     "showTitle": false,
     "tableResultSettingsMap": {},
     "title": ""
    }
   },
   "outputs": [],
   "source": [
    "-- Set current catalog\n",
    "USE CATALOG workspace;\n",
    "\n",
    "-- Create bronze schema\n",
    "CREATE SCHEMA IF NOT EXISTS hospital_bronze;\n",
    "\n",
    "-- Create silver schema\n",
    "CREATE SCHEMA IF NOT EXISTS hospital_silver;\n",
    "\n",
    "CREATE SCHEMA IF NOT EXISTS hospital_silver_error;\n",
    "\n",
    "-- Create gold schema\n",
    "CREATE SCHEMA IF NOT EXISTS hospital_gold;\n"
   ]
  },
  {
   "cell_type": "code",
   "execution_count": 0,
   "metadata": {
    "application/vnd.databricks.v1+cell": {
     "cellMetadata": {
      "byteLimit": 2048000,
      "rowLimit": 10000
     },
     "inputWidgets": {},
     "nuid": "0fe6a3af-ad6b-480a-b006-acf309e288a6",
     "showTitle": false,
     "tableResultSettingsMap": {},
     "title": ""
    }
   },
   "outputs": [],
   "source": [
    "CREATE SCHEMA IF NOT EXISTS hospital_silver_error;"
   ]
  },
  {
   "cell_type": "markdown",
   "metadata": {
    "application/vnd.databricks.v1+cell": {
     "cellMetadata": {},
     "inputWidgets": {},
     "nuid": "9cfe1b54-17c0-4b3f-8ad7-5de73b05bff9",
     "showTitle": false,
     "tableResultSettingsMap": {},
     "title": ""
    }
   },
   "source": [
    "## Bronze Schema Managing"
   ]
  },
  {
   "cell_type": "code",
   "execution_count": 0,
   "metadata": {
    "application/vnd.databricks.v1+cell": {
     "cellMetadata": {
      "byteLimit": 2048000,
      "rowLimit": 10000
     },
     "inputWidgets": {},
     "nuid": "f4a36e3c-8f5a-40e4-8f80-72faa68bcb6c",
     "showTitle": false,
     "tableResultSettingsMap": {},
     "title": ""
    }
   },
   "outputs": [],
   "source": [
    "USE SCHEMA hospital_bronze;\n",
    "\n",
    "SHOW TABLES;"
   ]
  },
  {
   "cell_type": "markdown",
   "metadata": {
    "application/vnd.databricks.v1+cell": {
     "cellMetadata": {},
     "inputWidgets": {},
     "nuid": "089f1813-09de-46b4-ac2a-2dcad1927962",
     "showTitle": false,
     "tableResultSettingsMap": {},
     "title": ""
    }
   },
   "source": [
    "### Drop all tables in Bronze Schema"
   ]
  },
  {
   "cell_type": "code",
   "execution_count": 0,
   "metadata": {
    "application/vnd.databricks.v1+cell": {
     "cellMetadata": {
      "byteLimit": 2048000,
      "rowLimit": 10000
     },
     "inputWidgets": {},
     "nuid": "8ad372c0-e6af-4338-8016-938a6e16762a",
     "showTitle": false,
     "tableResultSettingsMap": {},
     "title": ""
    }
   },
   "outputs": [],
   "source": [
    "%python\n",
    "schema_name = \"hospital_bronze\"  # Replace with any schema\n",
    "\n",
    "# Get list of tables\n",
    "tables = spark.sql(f\"SHOW TABLES IN {schema_name}\").collect()\n",
    "\n",
    "# Loop over tables and drop each one\n",
    "for table in tables:\n",
    "    table_name = table[\"tableName\"]\n",
    "    print(f\"Dropping table: {schema_name}.{table_name}\")\n",
    "    spark.sql(f\"DROP TABLE IF EXISTS {schema_name}.{table_name}\")\n"
   ]
  },
  {
   "cell_type": "markdown",
   "metadata": {
    "application/vnd.databricks.v1+cell": {
     "cellMetadata": {},
     "inputWidgets": {},
     "nuid": "be425df0-7e4b-47e5-817b-aae1d01b047f",
     "showTitle": false,
     "tableResultSettingsMap": {},
     "title": ""
    }
   },
   "source": [
    "## Silver Schema Managing"
   ]
  },
  {
   "cell_type": "markdown",
   "metadata": {
    "application/vnd.databricks.v1+cell": {
     "cellMetadata": {},
     "inputWidgets": {},
     "nuid": "ebb2b06d-8d96-4df9-9915-f821c641cb97",
     "showTitle": false,
     "tableResultSettingsMap": {},
     "title": ""
    }
   },
   "source": [
    "### Drop all table in Silver layer"
   ]
  },
  {
   "cell_type": "code",
   "execution_count": 0,
   "metadata": {
    "application/vnd.databricks.v1+cell": {
     "cellMetadata": {
      "byteLimit": 2048000,
      "rowLimit": 10000
     },
     "inputWidgets": {},
     "nuid": "a95b9994-bb6e-4f36-ba58-88df7ce4d99b",
     "showTitle": false,
     "tableResultSettingsMap": {},
     "title": ""
    }
   },
   "outputs": [],
   "source": [
    "%python\n",
    "schema_name = \"hospital_silver\"  # Replace with any schema\n",
    "\n",
    "# Get list of tables\n",
    "tables = spark.sql(f\"SHOW TABLES IN {schema_name}\").collect()\n",
    "\n",
    "# Loop over tables and drop each one\n",
    "for table in tables:\n",
    "    table_name = table[\"tableName\"]\n",
    "    print(f\"Dropping table: {schema_name}.{table_name}\")\n",
    "    spark.sql(f\"DROP TABLE IF EXISTS {schema_name}.{table_name}\")\n"
   ]
  },
  {
   "cell_type": "code",
   "execution_count": 0,
   "metadata": {
    "application/vnd.databricks.v1+cell": {
     "cellMetadata": {
      "byteLimit": 2048000,
      "rowLimit": 10000
     },
     "inputWidgets": {},
     "nuid": "34bb9109-259e-417f-94a0-583732a7ed84",
     "showTitle": false,
     "tableResultSettingsMap": {},
     "title": ""
    }
   },
   "outputs": [],
   "source": [
    "%python\n",
    "schema_name = \"hospital_silver\"\n",
    "table_name = \"visits\"\n",
    "\n",
    "spark.sql(f\"DROP TABLE IF EXISTS {schema_name}.{table_name}\")"
   ]
  },
  {
   "cell_type": "markdown",
   "metadata": {
    "application/vnd.databricks.v1+cell": {
     "cellMetadata": {},
     "inputWidgets": {},
     "nuid": "cbef745e-aacf-4991-b071-51c9eff3221f",
     "showTitle": false,
     "tableResultSettingsMap": {},
     "title": ""
    }
   },
   "source": [
    "## Gold Schema Managing"
   ]
  },
  {
   "cell_type": "code",
   "execution_count": 0,
   "metadata": {
    "application/vnd.databricks.v1+cell": {
     "cellMetadata": {
      "byteLimit": 2048000,
      "rowLimit": 10000
     },
     "inputWidgets": {},
     "nuid": "6916c30f-0732-4d21-864b-fd00e04946e0",
     "showTitle": false,
     "tableResultSettingsMap": {},
     "title": ""
    }
   },
   "outputs": [],
   "source": [
    "%python\n",
    "schema_name = \"hospital_gold\"  # Replace with any schema\n",
    "\n",
    "# Get list of tables\n",
    "tables = spark.sql(f\"SHOW TABLES IN {schema_name}\").collect()\n",
    "\n",
    "# Loop over tables and drop each one\n",
    "for table in tables:\n",
    "    table_name = table[\"tableName\"]\n",
    "    print(f\"Dropping table: {schema_name}.{table_name}\")\n",
    "    spark.sql(f\"DROP TABLE IF EXISTS {schema_name}.{table_name}\")\n"
   ]
  },
  {
   "cell_type": "markdown",
   "metadata": {
    "application/vnd.databricks.v1+cell": {
     "cellMetadata": {},
     "inputWidgets": {},
     "nuid": "df3381b6-357b-423b-82dc-7b9f35c41b90",
     "showTitle": false,
     "tableResultSettingsMap": {},
     "title": ""
    }
   },
   "source": [
    "## Drop All Schemas"
   ]
  },
  {
   "cell_type": "code",
   "execution_count": 0,
   "metadata": {
    "application/vnd.databricks.v1+cell": {
     "cellMetadata": {
      "byteLimit": 2048000,
      "rowLimit": 10000
     },
     "inputWidgets": {},
     "nuid": "3a977114-f5f5-4e56-a785-e82850adb881",
     "showTitle": false,
     "tableResultSettingsMap": {},
     "title": ""
    }
   },
   "outputs": [],
   "source": [
    "%python\n",
    "schema_list = ['hospital_bronze', 'hospital_silver', 'hospital_gold']\n",
    "\n",
    "for schema_name in schema_list:\n",
    "    # Get list of tables\n",
    "    tables = spark.sql(f\"SHOW TABLES IN {schema_name}\").collect()\n",
    "\n",
    "    # Loop over tables and drop each one\n",
    "    for table in tables:\n",
    "        table_name = table[\"tableName\"]\n",
    "        print(f\"Dropping table: {schema_name}.{table_name}\")\n",
    "        spark.sql(f\"DROP TABLE IF EXISTS {schema_name}.{table_name}\")\n"
   ]
  },
  {
   "cell_type": "markdown",
   "metadata": {
    "application/vnd.databricks.v1+cell": {
     "cellMetadata": {},
     "inputWidgets": {},
     "nuid": "875277f5-c705-4a15-b844-df074eca44bf",
     "showTitle": false,
     "tableResultSettingsMap": {},
     "title": ""
    }
   },
   "source": []
  },
  {
   "cell_type": "markdown",
   "metadata": {
    "application/vnd.databricks.v1+cell": {
     "cellMetadata": {},
     "inputWidgets": {},
     "nuid": "dbed6003-0069-42c8-b444-f90231eca92d",
     "showTitle": false,
     "tableResultSettingsMap": {},
     "title": ""
    }
   },
   "source": [
    "## Drop Visits and Patients Table + Views in Bronze, Silver, Gold"
   ]
  },
  {
   "cell_type": "code",
   "execution_count": 0,
   "metadata": {
    "application/vnd.databricks.v1+cell": {
     "cellMetadata": {
      "byteLimit": 2048000,
      "rowLimit": 10000
     },
     "inputWidgets": {},
     "nuid": "0fb67cb7-690b-4f55-b1f6-0bbff6ded213",
     "showTitle": false,
     "tableResultSettingsMap": {},
     "title": ""
    }
   },
   "outputs": [],
   "source": [
    "%python\n",
    "schema_list = ['hospital_bronze', 'hospital_silver', 'hospital_gold']\n",
    "\n",
    "for schema_name in schema_list:\n",
    "    # Get list of tables\n",
    "    tables = spark.sql(f\"SHOW TABLES IN {schema_name}\").collect()\n",
    "\n",
    "    # Loop over tables and drop each one\n",
    "    for table in tables:\n",
    "        table_name = table[\"tableName\"]\n",
    "        if 'visits' in table_name or 'patients' in table_name or 'view_' in table_name:\n",
    "            print(f\"Dropping table: {schema_name}.{table_name}\")\n",
    "            spark.sql(f\"DROP TABLE IF EXISTS {schema_name}.{table_name}\")\n"
   ]
  },
  {
   "cell_type": "code",
   "execution_count": 0,
   "metadata": {
    "application/vnd.databricks.v1+cell": {
     "cellMetadata": {},
     "inputWidgets": {},
     "nuid": "83fd8032-a8a6-4397-8e3f-22bcfa62e260",
     "showTitle": false,
     "tableResultSettingsMap": {},
     "title": ""
    }
   },
   "outputs": [],
   "source": []
  }
 ],
 "metadata": {
  "application/vnd.databricks.v1+notebook": {
   "computePreferences": null,
   "dashboards": [],
   "environmentMetadata": {
    "base_environment": "",
    "environment_version": "2"
   },
   "inputWidgetPreferences": null,
   "language": "sql",
   "notebookMetadata": {
    "pythonIndentUnit": 4
   },
   "notebookName": "configure_catalog_schema",
   "widgets": {}
  },
  "language_info": {
   "name": "sql"
  }
 },
 "nbformat": 4,
 "nbformat_minor": 0
}
